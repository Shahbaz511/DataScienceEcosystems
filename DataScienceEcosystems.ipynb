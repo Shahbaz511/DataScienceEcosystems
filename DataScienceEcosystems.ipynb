{
 "cells": [
  {
   "cell_type": "markdown",
   "id": "5779ea4f",
   "metadata": {},
   "source": [
    "# Data Science Tools and Ecosystems"
   ]
  },
  {
   "cell_type": "markdown",
   "id": "784efc2d",
   "metadata": {},
   "source": [
    "## In this notebook, Data Science Tools and Ecosystems are summarized."
   ]
  },
  {
   "cell_type": "markdown",
   "id": "2868598d",
   "metadata": {},
   "source": [
    "## Some of the popular languages that Data Scientists use are:\n",
    "1.Python\n",
    "2.R\n",
    "3.SQL\n",
    "4.C++\n",
    "5.Java etc..\n"
   ]
  },
  {
   "cell_type": "markdown",
   "id": "f9e55009",
   "metadata": {},
   "source": [
    "Some of the commonly used libraries used by Data Scientists include:\n",
    "1.TensorFlow\n",
    "2.Numpy\n",
    "3.Scipy\n",
    "4.Pandas\n",
    "5.Matplotlib\n",
    "6.Pytorch etc.."
   ]
  },
  {
   "cell_type": "markdown",
   "id": "5cf33e5a",
   "metadata": {},
   "source": [
    "# |Data Science Tools|\n",
    "|- - -|\n",
    "|SAS|\n",
    "|Apache Hadoop|\n",
    "|TensorFlow|"
   ]
  },
  {
   "cell_type": "markdown",
   "id": "957fc7bf",
   "metadata": {},
   "source": [
    "Below are a few exaamples of evaluating arithmetic expressions in Python"
   ]
  },
  {
   "cell_type": "code",
   "execution_count": 5,
   "id": "9d53cfac",
   "metadata": {},
   "outputs": [],
   "source": [
    "# this is a common arithmetic example to multipy and then add integers\n",
    "\n"
   ]
  },
  {
   "cell_type": "code",
   "execution_count": 6,
   "id": "46e417db",
   "metadata": {},
   "outputs": [
    {
     "data": {
      "text/plain": [
       "17"
      ]
     },
     "execution_count": 6,
     "metadata": {},
     "output_type": "execute_result"
    }
   ],
   "source": [
    "(3*4)+5"
   ]
  },
  {
   "cell_type": "code",
   "execution_count": 7,
   "id": "9090f4ea",
   "metadata": {},
   "outputs": [
    {
     "data": {
      "text/plain": [
       "3.3333333333333335"
      ]
     },
     "execution_count": 7,
     "metadata": {},
     "output_type": "execute_result"
    }
   ],
   "source": [
    "# this will convert 200 minutes to hours by dividing it by 60\n",
    "200/60"
   ]
  },
  {
   "cell_type": "markdown",
   "id": "0321ec07",
   "metadata": {},
   "source": [
    "_Objective_\n",
    "* List popular languages for Data Science\n",
    "* List popular libraries for Data Science\n",
    "* List of well known Data Science tools\n",
    "* How to provide comments in the cell"
   ]
  },
  {
   "cell_type": "markdown",
   "id": "88e441b5",
   "metadata": {},
   "source": [
    "## Author\n",
    "Shahbaz Ahmad"
   ]
  },
  {
   "cell_type": "code",
   "execution_count": null,
   "id": "4f386a56",
   "metadata": {},
   "outputs": [],
   "source": []
  }
 ],
 "metadata": {
  "kernelspec": {
   "display_name": "Python 3 (ipykernel)",
   "language": "python",
   "name": "python3"
  },
  "language_info": {
   "codemirror_mode": {
    "name": "ipython",
    "version": 3
   },
   "file_extension": ".py",
   "mimetype": "text/x-python",
   "name": "python",
   "nbconvert_exporter": "python",
   "pygments_lexer": "ipython3",
   "version": "3.10.9"
  }
 },
 "nbformat": 4,
 "nbformat_minor": 5
}
